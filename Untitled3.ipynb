{
 "cells": [
  {
   "cell_type": "code",
   "execution_count": 1,
   "id": "dd144666-d4ca-41aa-94ce-01c57059a23a",
   "metadata": {},
   "outputs": [
    {
     "name": "stdout",
     "output_type": "stream",
     "text": [
      "question no 1\n"
     ]
    }
   ],
   "source": [
    "print(\"question no 1\")"
   ]
  },
  {
   "cell_type": "code",
   "execution_count": 3,
   "id": "b2ed1e8a-658c-445c-b9c9-a048aaee986b",
   "metadata": {},
   "outputs": [
    {
     "name": "stdout",
     "output_type": "stream",
     "text": [
      "udit maurya\n"
     ]
    }
   ],
   "source": [
    "a=\"udit maurya\"\n",
    "print(a)"
   ]
  },
  {
   "cell_type": "code",
   "execution_count": 6,
   "id": "38f76f53-24d2-4469-a7de-ce55455d0337",
   "metadata": {},
   "outputs": [
    {
     "name": "stdout",
     "output_type": "stream",
     "text": [
      "[1, 4, 6, 'udit']\n"
     ]
    }
   ],
   "source": [
    "p=[1,4,6,\"udit\"]\n",
    "print(p)"
   ]
  },
  {
   "cell_type": "code",
   "execution_count": 8,
   "id": "e9fd954e-4c66-4edf-8443-57b66f3087d9",
   "metadata": {},
   "outputs": [
    {
     "name": "stdin",
     "output_type": "stream",
     "text": [
      "enter float value: 3.5\n"
     ]
    },
    {
     "name": "stdout",
     "output_type": "stream",
     "text": [
      "3.5\n"
     ]
    }
   ],
   "source": [
    "b=float(input(\"enter float value:\"))\n",
    "print(b)"
   ]
  },
  {
   "cell_type": "code",
   "execution_count": 9,
   "id": "f5897a6e-258f-46e0-bde4-9b1d34ee3cb8",
   "metadata": {},
   "outputs": [
    {
     "name": "stdout",
     "output_type": "stream",
     "text": [
      "(5, 6, 'udit', 8)\n"
     ]
    }
   ],
   "source": [
    "c=(5,6,\"udit\",8)\n",
    "print(c)"
   ]
  },
  {
   "cell_type": "code",
   "execution_count": 10,
   "id": "0411eafe-0545-4649-8751-78e4a593dd62",
   "metadata": {},
   "outputs": [
    {
     "name": "stdout",
     "output_type": "stream",
     "text": [
      "question no 2\n"
     ]
    }
   ],
   "source": [
    "print(\"question no 2\")"
   ]
  },
  {
   "cell_type": "code",
   "execution_count": 16,
   "id": "72df60e2-8cf8-415a-a340-8a27c051564f",
   "metadata": {},
   "outputs": [
    {
     "name": "stdout",
     "output_type": "stream",
     "text": [
      "<class 'str'>\n"
     ]
    }
   ],
   "source": [
    "var1 = ' '\n",
    "print(type(var1))"
   ]
  },
  {
   "cell_type": "code",
   "execution_count": 15,
   "id": "57657e2e-2ce9-44d3-a78f-bbffcaf5922c",
   "metadata": {},
   "outputs": [
    {
     "name": "stdout",
     "output_type": "stream",
     "text": [
      "<class 'str'>\n"
     ]
    }
   ],
   "source": [
    "var2 = '[ DS , ML , Python]'\n",
    "print(type(var2))"
   ]
  },
  {
   "cell_type": "code",
   "execution_count": 19,
   "id": "dc0c3873-c2d3-4948-b4a9-90658e8ec960",
   "metadata": {},
   "outputs": [
    {
     "name": "stdout",
     "output_type": "stream",
     "text": [
      "<class 'list'>\n"
     ]
    }
   ],
   "source": [
    "var3 = [ 'DS' , 'ML' , 'Python' ]\n",
    "print(type(var3))"
   ]
  },
  {
   "cell_type": "code",
   "execution_count": 20,
   "id": "b09d2865-e64a-427c-90d3-df8c1fa14d23",
   "metadata": {},
   "outputs": [
    {
     "name": "stdout",
     "output_type": "stream",
     "text": [
      "<class 'int'>\n"
     ]
    }
   ],
   "source": [
    "var4=1\n",
    "print(type(var4))"
   ]
  },
  {
   "cell_type": "code",
   "execution_count": 21,
   "id": "b580ea24-bb8d-4ec4-a383-409562b5d642",
   "metadata": {},
   "outputs": [
    {
     "name": "stdout",
     "output_type": "stream",
     "text": [
      "question no 3\n"
     ]
    }
   ],
   "source": [
    "print(\"question no 3\")"
   ]
  },
  {
   "cell_type": "code",
   "execution_count": 22,
   "id": "b1668e64-b107-4b25-9e5d-2237c7ad461b",
   "metadata": {},
   "outputs": [
    {
     "name": "stdout",
     "output_type": "stream",
     "text": [
      "7\n"
     ]
    }
   ],
   "source": [
    "# | bitwise or\n",
    "a=3|6\n",
    "print(a)"
   ]
  },
  {
   "cell_type": "code",
   "execution_count": 23,
   "id": "a226e161-6ad2-4023-beaa-3dd327f5f357",
   "metadata": {},
   "outputs": [
    {
     "name": "stdout",
     "output_type": "stream",
     "text": [
      "3\n"
     ]
    }
   ],
   "source": [
    "# %\n",
    "a=3%4\n",
    "print(a)"
   ]
  },
  {
   "cell_type": "code",
   "execution_count": 29,
   "id": "9d457488-6c1c-4726-8853-5a838580a0c0",
   "metadata": {},
   "outputs": [
    {
     "name": "stdout",
     "output_type": "stream",
     "text": [
      "3\n"
     ]
    }
   ],
   "source": [
    "# || logical or\n",
    "a= 3 or 2\n",
    "print(a)"
   ]
  },
  {
   "cell_type": "code",
   "execution_count": 31,
   "id": "6bcb1b55-9b86-499c-8ef0-c90389996ed5",
   "metadata": {},
   "outputs": [
    {
     "name": "stdout",
     "output_type": "stream",
     "text": [
      "4\n"
     ]
    }
   ],
   "source": [
    "a=2\n",
    "print(a**a)"
   ]
  },
  {
   "cell_type": "code",
   "execution_count": 33,
   "id": "ed182137-9e94-457d-aae6-c9afaef0f9ee",
   "metadata": {},
   "outputs": [
    {
     "name": "stdout",
     "output_type": "stream",
     "text": [
      "question no 4\n"
     ]
    }
   ],
   "source": [
    "print(\"question no 4\")"
   ]
  },
  {
   "cell_type": "code",
   "execution_count": 35,
   "id": "639be9f0-7712-4186-9e21-a2aae4a26562",
   "metadata": {},
   "outputs": [
    {
     "name": "stdout",
     "output_type": "stream",
     "text": [
      "[2, 4, 6, 8, 1, 3, 5, 7, 9, 'udit', 'maurya']\n",
      "2\n",
      "4\n",
      "6\n",
      "8\n",
      "1\n",
      "3\n",
      "5\n",
      "7\n",
      "9\n",
      "udit\n",
      "maurya\n"
     ]
    }
   ],
   "source": [
    "l=[2,4,6,8,1,3,5,7,9,\"udit\",\"maurya\"]\n",
    "print(l)\n",
    "for i in l:\n",
    "    print(i)"
   ]
  },
  {
   "cell_type": "code",
   "execution_count": 38,
   "id": "803813dc-a73f-491b-ac23-7917a095da24",
   "metadata": {},
   "outputs": [
    {
     "name": "stdout",
     "output_type": "stream",
     "text": [
      "question no 6\n"
     ]
    }
   ],
   "source": [
    "print(\"question no 6\")"
   ]
  },
  {
   "cell_type": "code",
   "execution_count": 41,
   "id": "d1321c65-b4fa-46ca-84f2-a7bd11cdaf77",
   "metadata": {},
   "outputs": [
    {
     "name": "stdout",
     "output_type": "stream",
     "text": [
      "1 is not divisble by 3\n",
      "2 is not divisble by 3\n",
      "3  is divisble by 3\n",
      "4 is not divisble by 3\n",
      "5 is not divisble by 3\n",
      "6  is divisble by 3\n",
      "7 is not divisble by 3\n",
      "8 is not divisble by 3\n",
      "9  is divisble by 3\n",
      "10 is not divisble by 3\n",
      "11 is not divisble by 3\n",
      "12  is divisble by 3\n",
      "13 is not divisble by 3\n",
      "14 is not divisble by 3\n"
     ]
    }
   ],
   "source": [
    "d=[1,2,3,4,5,6,7,8,9,10,11,12,13,14,]\n",
    "for i in d:\n",
    "    if i%3==0:\n",
    "        print(i,\" is divisble by 3\")\n",
    "    else:\n",
    "        print(i,\"is not divisble by 3\")"
   ]
  },
  {
   "cell_type": "code",
   "execution_count": 42,
   "id": "056e9134-7449-46f4-9c67-f1c2b827e746",
   "metadata": {},
   "outputs": [
    {
     "name": "stdout",
     "output_type": "stream",
     "text": [
      "question no 7\n"
     ]
    }
   ],
   "source": [
    "print(\"question no 7\")"
   ]
  },
  {
   "cell_type": "code",
   "execution_count": 45,
   "id": "b936fe69-4412-4718-90d0-dff6ca59f6a1",
   "metadata": {},
   "outputs": [
    {
     "name": "stdout",
     "output_type": "stream",
     "text": [
      "[4, 4, 5, 6, 7]\n"
     ]
    },
    {
     "ename": "TypeError",
     "evalue": "'tuple' object does not support item assignment",
     "output_type": "error",
     "traceback": [
      "\u001b[0;31m---------------------------------------------------------------------------\u001b[0m",
      "\u001b[0;31mTypeError\u001b[0m                                 Traceback (most recent call last)",
      "Cell \u001b[0;32mIn[45], line 5\u001b[0m\n\u001b[1;32m      3\u001b[0m li[\u001b[38;5;241m0\u001b[39m]\u001b[38;5;241m=\u001b[39m\u001b[38;5;241m4\u001b[39m\n\u001b[1;32m      4\u001b[0m \u001b[38;5;28mprint\u001b[39m(li)\n\u001b[0;32m----> 5\u001b[0m \u001b[43mt\u001b[49m\u001b[43m[\u001b[49m\u001b[38;5;241;43m0\u001b[39;49m\u001b[43m]\u001b[49m\u001b[38;5;241m=\u001b[39m\u001b[38;5;241m4\u001b[39m\n\u001b[1;32m      6\u001b[0m \u001b[38;5;28mprint\u001b[39m(t)\n",
      "\u001b[0;31mTypeError\u001b[0m: 'tuple' object does not support item assignment"
     ]
    }
   ],
   "source": [
    "li=[2,4,5,6,7]\n",
    "t=(2,4,5,6,7)\n",
    "li[0]=4\n",
    "print(li)\n",
    "t[0]=4\n",
    "print(t)"
   ]
  },
  {
   "cell_type": "code",
   "execution_count": 46,
   "id": "2a756577-5af4-4bea-a89d-a440022f5573",
   "metadata": {},
   "outputs": [
    {
     "name": "stdout",
     "output_type": "stream",
     "text": [
      "question no 5\n"
     ]
    }
   ],
   "source": [
    "print(\"question no 5\")"
   ]
  },
  {
   "cell_type": "code",
   "execution_count": null,
   "id": "bf717b54-f7cc-4f25-b9ab-b04bb8a55a8f",
   "metadata": {},
   "outputs": [],
   "source": [
    "a=int(input(\"enter no a:\"))\n",
    "b=int(input(\"enter no b:\"))\n",
    "while b<a:\n",
    "    print(a%b)"
   ]
  },
  {
   "cell_type": "code",
   "execution_count": null,
   "id": "748b2258-edd0-4f86-8fb1-6816be14024f",
   "metadata": {},
   "outputs": [],
   "source": []
  },
  {
   "cell_type": "code",
   "execution_count": null,
   "id": "7397e91c-bb27-48df-b543-b97242a1ae50",
   "metadata": {},
   "outputs": [],
   "source": []
  }
 ],
 "metadata": {
  "kernelspec": {
   "display_name": "Python 3 (ipykernel)",
   "language": "python",
   "name": "python3"
  },
  "language_info": {
   "codemirror_mode": {
    "name": "ipython",
    "version": 3
   },
   "file_extension": ".py",
   "mimetype": "text/x-python",
   "name": "python",
   "nbconvert_exporter": "python",
   "pygments_lexer": "ipython3",
   "version": "3.10.8"
  }
 },
 "nbformat": 4,
 "nbformat_minor": 5
}
